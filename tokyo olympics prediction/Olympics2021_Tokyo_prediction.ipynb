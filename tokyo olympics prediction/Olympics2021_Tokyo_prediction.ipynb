{
  "nbformat": 4,
  "nbformat_minor": 0,
  "metadata": {
    "colab": {
      "name": "Olympics2021 Tokyo prediction.ipynb",
      "provenance": []
    },
    "kernelspec": {
      "name": "python3",
      "display_name": "Python 3"
    },
    "language_info": {
      "name": "python"
    }
  },
  "cells": [
    {
      "cell_type": "markdown",
      "metadata": {
        "id": "LHRv5ZZ0MXqN"
      },
      "source": [
        "#Tokyo Olympics 2021 prediction\n",
        " "
      ]
    },
    {
      "cell_type": "code",
      "metadata": {
        "id": "0Tqr9uWjMDUP"
      },
      "source": [
        "import pandas as pd\n",
        "import numpy as np"
      ],
      "execution_count": 1,
      "outputs": []
    },
    {
      "cell_type": "code",
      "metadata": {
        "colab": {
          "base_uri": "https://localhost:8080/",
          "height": 203
        },
        "id": "rZGz3xpONOXw",
        "outputId": "bcefa5e1-c440-4da7-976f-96180e2b9e95"
      },
      "source": [
        "df = pd.read_csv('athletes.csv')\n",
        "df.head()"
      ],
      "execution_count": 2,
      "outputs": [
        {
          "output_type": "execute_result",
          "data": {
            "text/html": [
              "<div>\n",
              "<style scoped>\n",
              "    .dataframe tbody tr th:only-of-type {\n",
              "        vertical-align: middle;\n",
              "    }\n",
              "\n",
              "    .dataframe tbody tr th {\n",
              "        vertical-align: top;\n",
              "    }\n",
              "\n",
              "    .dataframe thead th {\n",
              "        text-align: right;\n",
              "    }\n",
              "</style>\n",
              "<table border=\"1\" class=\"dataframe\">\n",
              "  <thead>\n",
              "    <tr style=\"text-align: right;\">\n",
              "      <th></th>\n",
              "      <th>id</th>\n",
              "      <th>name</th>\n",
              "      <th>nationality</th>\n",
              "      <th>sex</th>\n",
              "      <th>dob</th>\n",
              "      <th>height</th>\n",
              "      <th>weight</th>\n",
              "      <th>sport</th>\n",
              "      <th>gold</th>\n",
              "      <th>silver</th>\n",
              "      <th>bronze</th>\n",
              "    </tr>\n",
              "  </thead>\n",
              "  <tbody>\n",
              "    <tr>\n",
              "      <th>0</th>\n",
              "      <td>736041664</td>\n",
              "      <td>A Jesus Garcia</td>\n",
              "      <td>ESP</td>\n",
              "      <td>male</td>\n",
              "      <td>10/17/69</td>\n",
              "      <td>1.72</td>\n",
              "      <td>64.0</td>\n",
              "      <td>athletics</td>\n",
              "      <td>0</td>\n",
              "      <td>0</td>\n",
              "      <td>0</td>\n",
              "    </tr>\n",
              "    <tr>\n",
              "      <th>1</th>\n",
              "      <td>532037425</td>\n",
              "      <td>A Lam Shin</td>\n",
              "      <td>KOR</td>\n",
              "      <td>female</td>\n",
              "      <td>9/23/86</td>\n",
              "      <td>1.68</td>\n",
              "      <td>56.0</td>\n",
              "      <td>fencing</td>\n",
              "      <td>0</td>\n",
              "      <td>0</td>\n",
              "      <td>0</td>\n",
              "    </tr>\n",
              "    <tr>\n",
              "      <th>2</th>\n",
              "      <td>435962603</td>\n",
              "      <td>Aaron Brown</td>\n",
              "      <td>CAN</td>\n",
              "      <td>male</td>\n",
              "      <td>5/27/92</td>\n",
              "      <td>1.98</td>\n",
              "      <td>79.0</td>\n",
              "      <td>athletics</td>\n",
              "      <td>0</td>\n",
              "      <td>0</td>\n",
              "      <td>1</td>\n",
              "    </tr>\n",
              "    <tr>\n",
              "      <th>3</th>\n",
              "      <td>521041435</td>\n",
              "      <td>Aaron Cook</td>\n",
              "      <td>MDA</td>\n",
              "      <td>male</td>\n",
              "      <td>1/2/91</td>\n",
              "      <td>1.83</td>\n",
              "      <td>80.0</td>\n",
              "      <td>taekwondo</td>\n",
              "      <td>0</td>\n",
              "      <td>0</td>\n",
              "      <td>0</td>\n",
              "    </tr>\n",
              "    <tr>\n",
              "      <th>4</th>\n",
              "      <td>33922579</td>\n",
              "      <td>Aaron Gate</td>\n",
              "      <td>NZL</td>\n",
              "      <td>male</td>\n",
              "      <td>11/26/90</td>\n",
              "      <td>1.81</td>\n",
              "      <td>71.0</td>\n",
              "      <td>cycling</td>\n",
              "      <td>0</td>\n",
              "      <td>0</td>\n",
              "      <td>0</td>\n",
              "    </tr>\n",
              "  </tbody>\n",
              "</table>\n",
              "</div>"
            ],
            "text/plain": [
              "          id            name nationality  ... gold silver  bronze\n",
              "0  736041664  A Jesus Garcia         ESP  ...    0      0       0\n",
              "1  532037425      A Lam Shin         KOR  ...    0      0       0\n",
              "2  435962603     Aaron Brown         CAN  ...    0      0       1\n",
              "3  521041435      Aaron Cook         MDA  ...    0      0       0\n",
              "4   33922579      Aaron Gate         NZL  ...    0      0       0\n",
              "\n",
              "[5 rows x 11 columns]"
            ]
          },
          "metadata": {
            "tags": []
          },
          "execution_count": 2
        }
      ]
    },
    {
      "cell_type": "markdown",
      "metadata": {
        "id": "JjGmQ77ZNZQq"
      },
      "source": [
        "#Data Preprocessing"
      ]
    },
    {
      "cell_type": "code",
      "metadata": {
        "colab": {
          "base_uri": "https://localhost:8080/",
          "height": 203
        },
        "id": "Wukht3wfNV7O",
        "outputId": "fc70bd67-3a2a-4e48-d1aa-8a80dbdbff22"
      },
      "source": [
        "del df['dob'] , df['id'] , df['name']\n",
        "df.head()"
      ],
      "execution_count": 3,
      "outputs": [
        {
          "output_type": "execute_result",
          "data": {
            "text/html": [
              "<div>\n",
              "<style scoped>\n",
              "    .dataframe tbody tr th:only-of-type {\n",
              "        vertical-align: middle;\n",
              "    }\n",
              "\n",
              "    .dataframe tbody tr th {\n",
              "        vertical-align: top;\n",
              "    }\n",
              "\n",
              "    .dataframe thead th {\n",
              "        text-align: right;\n",
              "    }\n",
              "</style>\n",
              "<table border=\"1\" class=\"dataframe\">\n",
              "  <thead>\n",
              "    <tr style=\"text-align: right;\">\n",
              "      <th></th>\n",
              "      <th>nationality</th>\n",
              "      <th>sex</th>\n",
              "      <th>height</th>\n",
              "      <th>weight</th>\n",
              "      <th>sport</th>\n",
              "      <th>gold</th>\n",
              "      <th>silver</th>\n",
              "      <th>bronze</th>\n",
              "    </tr>\n",
              "  </thead>\n",
              "  <tbody>\n",
              "    <tr>\n",
              "      <th>0</th>\n",
              "      <td>ESP</td>\n",
              "      <td>male</td>\n",
              "      <td>1.72</td>\n",
              "      <td>64.0</td>\n",
              "      <td>athletics</td>\n",
              "      <td>0</td>\n",
              "      <td>0</td>\n",
              "      <td>0</td>\n",
              "    </tr>\n",
              "    <tr>\n",
              "      <th>1</th>\n",
              "      <td>KOR</td>\n",
              "      <td>female</td>\n",
              "      <td>1.68</td>\n",
              "      <td>56.0</td>\n",
              "      <td>fencing</td>\n",
              "      <td>0</td>\n",
              "      <td>0</td>\n",
              "      <td>0</td>\n",
              "    </tr>\n",
              "    <tr>\n",
              "      <th>2</th>\n",
              "      <td>CAN</td>\n",
              "      <td>male</td>\n",
              "      <td>1.98</td>\n",
              "      <td>79.0</td>\n",
              "      <td>athletics</td>\n",
              "      <td>0</td>\n",
              "      <td>0</td>\n",
              "      <td>1</td>\n",
              "    </tr>\n",
              "    <tr>\n",
              "      <th>3</th>\n",
              "      <td>MDA</td>\n",
              "      <td>male</td>\n",
              "      <td>1.83</td>\n",
              "      <td>80.0</td>\n",
              "      <td>taekwondo</td>\n",
              "      <td>0</td>\n",
              "      <td>0</td>\n",
              "      <td>0</td>\n",
              "    </tr>\n",
              "    <tr>\n",
              "      <th>4</th>\n",
              "      <td>NZL</td>\n",
              "      <td>male</td>\n",
              "      <td>1.81</td>\n",
              "      <td>71.0</td>\n",
              "      <td>cycling</td>\n",
              "      <td>0</td>\n",
              "      <td>0</td>\n",
              "      <td>0</td>\n",
              "    </tr>\n",
              "  </tbody>\n",
              "</table>\n",
              "</div>"
            ],
            "text/plain": [
              "  nationality     sex  height  weight      sport  gold  silver  bronze\n",
              "0         ESP    male    1.72    64.0  athletics     0       0       0\n",
              "1         KOR  female    1.68    56.0    fencing     0       0       0\n",
              "2         CAN    male    1.98    79.0  athletics     0       0       1\n",
              "3         MDA    male    1.83    80.0  taekwondo     0       0       0\n",
              "4         NZL    male    1.81    71.0    cycling     0       0       0"
            ]
          },
          "metadata": {
            "tags": []
          },
          "execution_count": 3
        }
      ]
    },
    {
      "cell_type": "code",
      "metadata": {
        "id": "os_HpikpNl82"
      },
      "source": [
        "df['nationality'] = df['nationality'].astype(str)"
      ],
      "execution_count": 4,
      "outputs": []
    },
    {
      "cell_type": "code",
      "metadata": {
        "colab": {
          "base_uri": "https://localhost:8080/",
          "height": 417
        },
        "id": "s3MChupgNuNm",
        "outputId": "4b355bfb-1783-496b-8c5d-1373ea9299fa"
      },
      "source": [
        "df.isnull()"
      ],
      "execution_count": 6,
      "outputs": [
        {
          "output_type": "execute_result",
          "data": {
            "text/html": [
              "<div>\n",
              "<style scoped>\n",
              "    .dataframe tbody tr th:only-of-type {\n",
              "        vertical-align: middle;\n",
              "    }\n",
              "\n",
              "    .dataframe tbody tr th {\n",
              "        vertical-align: top;\n",
              "    }\n",
              "\n",
              "    .dataframe thead th {\n",
              "        text-align: right;\n",
              "    }\n",
              "</style>\n",
              "<table border=\"1\" class=\"dataframe\">\n",
              "  <thead>\n",
              "    <tr style=\"text-align: right;\">\n",
              "      <th></th>\n",
              "      <th>nationality</th>\n",
              "      <th>sex</th>\n",
              "      <th>height</th>\n",
              "      <th>weight</th>\n",
              "      <th>sport</th>\n",
              "      <th>gold</th>\n",
              "      <th>silver</th>\n",
              "      <th>bronze</th>\n",
              "    </tr>\n",
              "  </thead>\n",
              "  <tbody>\n",
              "    <tr>\n",
              "      <th>0</th>\n",
              "      <td>False</td>\n",
              "      <td>False</td>\n",
              "      <td>False</td>\n",
              "      <td>False</td>\n",
              "      <td>False</td>\n",
              "      <td>False</td>\n",
              "      <td>False</td>\n",
              "      <td>False</td>\n",
              "    </tr>\n",
              "    <tr>\n",
              "      <th>1</th>\n",
              "      <td>False</td>\n",
              "      <td>False</td>\n",
              "      <td>False</td>\n",
              "      <td>False</td>\n",
              "      <td>False</td>\n",
              "      <td>False</td>\n",
              "      <td>False</td>\n",
              "      <td>False</td>\n",
              "    </tr>\n",
              "    <tr>\n",
              "      <th>2</th>\n",
              "      <td>False</td>\n",
              "      <td>False</td>\n",
              "      <td>False</td>\n",
              "      <td>False</td>\n",
              "      <td>False</td>\n",
              "      <td>False</td>\n",
              "      <td>False</td>\n",
              "      <td>False</td>\n",
              "    </tr>\n",
              "    <tr>\n",
              "      <th>3</th>\n",
              "      <td>False</td>\n",
              "      <td>False</td>\n",
              "      <td>False</td>\n",
              "      <td>False</td>\n",
              "      <td>False</td>\n",
              "      <td>False</td>\n",
              "      <td>False</td>\n",
              "      <td>False</td>\n",
              "    </tr>\n",
              "    <tr>\n",
              "      <th>4</th>\n",
              "      <td>False</td>\n",
              "      <td>False</td>\n",
              "      <td>False</td>\n",
              "      <td>False</td>\n",
              "      <td>False</td>\n",
              "      <td>False</td>\n",
              "      <td>False</td>\n",
              "      <td>False</td>\n",
              "    </tr>\n",
              "    <tr>\n",
              "      <th>...</th>\n",
              "      <td>...</td>\n",
              "      <td>...</td>\n",
              "      <td>...</td>\n",
              "      <td>...</td>\n",
              "      <td>...</td>\n",
              "      <td>...</td>\n",
              "      <td>...</td>\n",
              "      <td>...</td>\n",
              "    </tr>\n",
              "    <tr>\n",
              "      <th>11533</th>\n",
              "      <td>False</td>\n",
              "      <td>False</td>\n",
              "      <td>False</td>\n",
              "      <td>False</td>\n",
              "      <td>False</td>\n",
              "      <td>False</td>\n",
              "      <td>False</td>\n",
              "      <td>False</td>\n",
              "    </tr>\n",
              "    <tr>\n",
              "      <th>11534</th>\n",
              "      <td>False</td>\n",
              "      <td>False</td>\n",
              "      <td>False</td>\n",
              "      <td>False</td>\n",
              "      <td>False</td>\n",
              "      <td>False</td>\n",
              "      <td>False</td>\n",
              "      <td>False</td>\n",
              "    </tr>\n",
              "    <tr>\n",
              "      <th>11535</th>\n",
              "      <td>False</td>\n",
              "      <td>False</td>\n",
              "      <td>False</td>\n",
              "      <td>False</td>\n",
              "      <td>False</td>\n",
              "      <td>False</td>\n",
              "      <td>False</td>\n",
              "      <td>False</td>\n",
              "    </tr>\n",
              "    <tr>\n",
              "      <th>11536</th>\n",
              "      <td>False</td>\n",
              "      <td>False</td>\n",
              "      <td>False</td>\n",
              "      <td>False</td>\n",
              "      <td>False</td>\n",
              "      <td>False</td>\n",
              "      <td>False</td>\n",
              "      <td>False</td>\n",
              "    </tr>\n",
              "    <tr>\n",
              "      <th>11537</th>\n",
              "      <td>False</td>\n",
              "      <td>False</td>\n",
              "      <td>False</td>\n",
              "      <td>False</td>\n",
              "      <td>False</td>\n",
              "      <td>False</td>\n",
              "      <td>False</td>\n",
              "      <td>False</td>\n",
              "    </tr>\n",
              "  </tbody>\n",
              "</table>\n",
              "<p>11538 rows × 8 columns</p>\n",
              "</div>"
            ],
            "text/plain": [
              "       nationality    sex  height  weight  sport   gold  silver  bronze\n",
              "0            False  False   False   False  False  False   False   False\n",
              "1            False  False   False   False  False  False   False   False\n",
              "2            False  False   False   False  False  False   False   False\n",
              "3            False  False   False   False  False  False   False   False\n",
              "4            False  False   False   False  False  False   False   False\n",
              "...            ...    ...     ...     ...    ...    ...     ...     ...\n",
              "11533        False  False   False   False  False  False   False   False\n",
              "11534        False  False   False   False  False  False   False   False\n",
              "11535        False  False   False   False  False  False   False   False\n",
              "11536        False  False   False   False  False  False   False   False\n",
              "11537        False  False   False   False  False  False   False   False\n",
              "\n",
              "[11538 rows x 8 columns]"
            ]
          },
          "metadata": {
            "tags": []
          },
          "execution_count": 6
        }
      ]
    },
    {
      "cell_type": "code",
      "metadata": {
        "colab": {
          "base_uri": "https://localhost:8080/"
        },
        "id": "AMhCMDCbNyDO",
        "outputId": "4e110074-ca99-4c2e-a45c-d03ef932a086"
      },
      "source": [
        "df.isnull().sum()"
      ],
      "execution_count": 7,
      "outputs": [
        {
          "output_type": "execute_result",
          "data": {
            "text/plain": [
              "nationality      0\n",
              "sex              0\n",
              "height         330\n",
              "weight         659\n",
              "sport            0\n",
              "gold             0\n",
              "silver           0\n",
              "bronze           0\n",
              "dtype: int64"
            ]
          },
          "metadata": {
            "tags": []
          },
          "execution_count": 7
        }
      ]
    },
    {
      "cell_type": "markdown",
      "metadata": {
        "id": "0jZedbQVOnAO"
      },
      "source": [
        "#Dealing with the missing / NaN Values by using sklearn and imputing method"
      ]
    },
    {
      "cell_type": "code",
      "metadata": {
        "id": "B2udR1RZN7Eu"
      },
      "source": [
        "from sklearn.impute import SimpleImputer\n",
        "\n",
        "imputer = SimpleImputer(missing_values = np.nan, strategy = 'mean')\n",
        "imputer.fit(df.iloc[:, 2:4])\n",
        "df.iloc[:,2:4] = imputer.transform(df.iloc[:,2:4])"
      ],
      "execution_count": 10,
      "outputs": []
    },
    {
      "cell_type": "code",
      "metadata": {
        "colab": {
          "base_uri": "https://localhost:8080/"
        },
        "id": "yzb1PCPTO3Si",
        "outputId": "ca498f04-f78f-4705-e498-43625fc11482"
      },
      "source": [
        "df.isnull().sum() # Now the data is clean and the missing values are processed."
      ],
      "execution_count": 11,
      "outputs": [
        {
          "output_type": "execute_result",
          "data": {
            "text/plain": [
              "nationality    0\n",
              "sex            0\n",
              "height         0\n",
              "weight         0\n",
              "sport          0\n",
              "gold           0\n",
              "silver         0\n",
              "bronze         0\n",
              "dtype: int64"
            ]
          },
          "metadata": {
            "tags": []
          },
          "execution_count": 11
        }
      ]
    },
    {
      "cell_type": "code",
      "metadata": {
        "colab": {
          "base_uri": "https://localhost:8080/"
        },
        "id": "9l7lGwVgPBdG",
        "outputId": "694d9777-22e7-476b-ee45-86eed0c216a8"
      },
      "source": [
        "print(len(df.nationality.unique())) # Number of countries participating\n",
        "len(df.sport.unique()) # number of sports being conducted"
      ],
      "execution_count": 16,
      "outputs": [
        {
          "output_type": "stream",
          "text": [
            "207\n"
          ],
          "name": "stdout"
        },
        {
          "output_type": "execute_result",
          "data": {
            "text/plain": [
              "28"
            ]
          },
          "metadata": {
            "tags": []
          },
          "execution_count": 16
        }
      ]
    },
    {
      "cell_type": "code",
      "metadata": {
        "id": "X0VgOnh3PbDm"
      },
      "source": [
        "x = df.iloc[:, 0:5].values\n",
        "y = df.iloc[:,[5,6,7]].values"
      ],
      "execution_count": 19,
      "outputs": []
    },
    {
      "cell_type": "code",
      "metadata": {
        "colab": {
          "base_uri": "https://localhost:8080/"
        },
        "id": "Cm_9yYpiP94Y",
        "outputId": "f46827dc-6725-486f-e9dd-c13099ed9a7e"
      },
      "source": [
        "x"
      ],
      "execution_count": 20,
      "outputs": [
        {
          "output_type": "execute_result",
          "data": {
            "text/plain": [
              "array([['ESP', 'male', 1.72, 64.0, 'athletics'],\n",
              "       ['KOR', 'female', 1.68, 56.0, 'fencing'],\n",
              "       ['CAN', 'male', 1.98, 79.0, 'athletics'],\n",
              "       ...,\n",
              "       ['CHN', 'male', 1.85, 100.0, 'wrestling'],\n",
              "       ['VIE', 'male', 1.6, 56.0, 'weightlifting'],\n",
              "       ['RSA', 'male', 1.85, 70.0, 'athletics']], dtype=object)"
            ]
          },
          "metadata": {
            "tags": []
          },
          "execution_count": 20
        }
      ]
    },
    {
      "cell_type": "code",
      "metadata": {
        "colab": {
          "base_uri": "https://localhost:8080/"
        },
        "id": "5gQAeuQTQEvu",
        "outputId": "f377ce68-25d5-405f-a9c4-f71585790a45"
      },
      "source": [
        "y"
      ],
      "execution_count": 21,
      "outputs": [
        {
          "output_type": "execute_result",
          "data": {
            "text/plain": [
              "array([[0, 0, 0],\n",
              "       [0, 0, 0],\n",
              "       [0, 0, 1],\n",
              "       ...,\n",
              "       [0, 0, 0],\n",
              "       [0, 0, 0],\n",
              "       [0, 0, 0]])"
            ]
          },
          "metadata": {
            "tags": []
          },
          "execution_count": 21
        }
      ]
    },
    {
      "cell_type": "code",
      "metadata": {
        "id": "jbRp90kmQvBa"
      },
      "source": [
        "x = x.transpose()"
      ],
      "execution_count": 23,
      "outputs": []
    },
    {
      "cell_type": "markdown",
      "metadata": {
        "id": "JdZWTIflSuUO"
      },
      "source": [
        "#Category labelling of data "
      ]
    },
    {
      "cell_type": "code",
      "metadata": {
        "id": "4GCERHPAQF23"
      },
      "source": [
        "from sklearn.preprocessing import LabelEncoder\n",
        "le = LabelEncoder()\n",
        "x[0] = le.fit_transform(x[0])"
      ],
      "execution_count": 24,
      "outputs": []
    },
    {
      "cell_type": "code",
      "metadata": {
        "colab": {
          "base_uri": "https://localhost:8080/"
        },
        "id": "PNd50GaJQo1w",
        "outputId": "fd8c7ddb-10bf-4dd1-b44c-c513439eee4f"
      },
      "source": [
        "x"
      ],
      "execution_count": 25,
      "outputs": [
        {
          "output_type": "execute_result",
          "data": {
            "text/plain": [
              "array([[59, 102, 33, ..., 38, 202, 158],\n",
              "       ['male', 'female', 'male', ..., 'male', 'male', 'male'],\n",
              "       [1.72, 1.68, 1.98, ..., 1.85, 1.6, 1.85],\n",
              "       [64.0, 56.0, 79.0, ..., 100.0, 56.0, 70.0],\n",
              "       ['athletics', 'fencing', 'athletics', ..., 'wrestling',\n",
              "        'weightlifting', 'athletics']], dtype=object)"
            ]
          },
          "metadata": {
            "tags": []
          },
          "execution_count": 25
        }
      ]
    },
    {
      "cell_type": "code",
      "metadata": {
        "id": "G1OVPkUDQzFv"
      },
      "source": [
        "le = LabelEncoder()\n",
        "x[4] = le.fit_transform(x[4])"
      ],
      "execution_count": 26,
      "outputs": []
    },
    {
      "cell_type": "code",
      "metadata": {
        "colab": {
          "base_uri": "https://localhost:8080/"
        },
        "id": "k1UXtKr3Q803",
        "outputId": "e2233763-6e5a-4ba8-8d49-e6696df1d1cc"
      },
      "source": [
        "x"
      ],
      "execution_count": 27,
      "outputs": [
        {
          "output_type": "execute_result",
          "data": {
            "text/plain": [
              "array([[59, 102, 33, ..., 38, 202, 158],\n",
              "       ['male', 'female', 'male', ..., 'male', 'male', 'male'],\n",
              "       [1.72, 1.68, 1.98, ..., 1.85, 1.6, 1.85],\n",
              "       [64.0, 56.0, 79.0, ..., 100.0, 56.0, 70.0],\n",
              "       [2, 9, 2, ..., 27, 26, 2]], dtype=object)"
            ]
          },
          "metadata": {
            "tags": []
          },
          "execution_count": 27
        }
      ]
    },
    {
      "cell_type": "code",
      "metadata": {
        "id": "nqgorn01Q_NG"
      },
      "source": [
        "le = LabelEncoder()\n",
        "x[1] = le.fit_transform(x[1])"
      ],
      "execution_count": 28,
      "outputs": []
    },
    {
      "cell_type": "code",
      "metadata": {
        "colab": {
          "base_uri": "https://localhost:8080/"
        },
        "id": "n_ysVNAPRMCY",
        "outputId": "e1813f95-c9c6-4b12-f389-5f304c1f3123"
      },
      "source": [
        "x"
      ],
      "execution_count": 29,
      "outputs": [
        {
          "output_type": "execute_result",
          "data": {
            "text/plain": [
              "array([[59, 102, 33, ..., 38, 202, 158],\n",
              "       [1, 0, 1, ..., 1, 1, 1],\n",
              "       [1.72, 1.68, 1.98, ..., 1.85, 1.6, 1.85],\n",
              "       [64.0, 56.0, 79.0, ..., 100.0, 56.0, 70.0],\n",
              "       [2, 9, 2, ..., 27, 26, 2]], dtype=object)"
            ]
          },
          "metadata": {
            "tags": []
          },
          "execution_count": 29
        }
      ]
    },
    {
      "cell_type": "code",
      "metadata": {
        "id": "-AfEcEUfRMnv"
      },
      "source": [
        "gender = df['sex'].values\n",
        "nation = df['nationality'].values\n",
        "game = df['sport'].values"
      ],
      "execution_count": 30,
      "outputs": []
    },
    {
      "cell_type": "code",
      "metadata": {
        "id": "MNXUCwcARy-e"
      },
      "source": [
        "cg = dict(zip(gender , x[1]))\n",
        "cn = dict(zip(nation , x[0] ))\n",
        "cgame = dict(zip(game , x[4]))"
      ],
      "execution_count": 36,
      "outputs": []
    },
    {
      "cell_type": "code",
      "metadata": {
        "colab": {
          "base_uri": "https://localhost:8080/"
        },
        "id": "Uy54NNllSHBW",
        "outputId": "054655fc-951a-4cec-a8a1-66a295daa632"
      },
      "source": [
        "print(cgame)\n",
        "print(cn)\n",
        "print(cg)"
      ],
      "execution_count": 37,
      "outputs": [
        {
          "output_type": "stream",
          "text": [
            "{'athletics': 2, 'fencing': 9, 'taekwondo': 22, 'cycling': 7, 'triathlon': 24, 'volleyball': 25, 'aquatics': 0, 'rugby sevens': 18, 'wrestling': 27, 'football': 10, 'shooting': 20, 'boxing': 5, 'equestrian': 8, 'rowing': 17, 'judo': 15, 'handball': 13, 'badminton': 3, 'hockey': 14, 'modern pentathlon': 16, 'table tennis': 21, 'canoe': 6, 'basketball': 4, 'golf': 11, 'archery': 1, 'weightlifting': 26, 'sailing': 19, 'tennis': 23, 'gymnastics': 12}\n",
            "{'ESP': 59, 'KOR': 102, 'CAN': 33, 'MDA': 119, 'NZL': 141, 'AUS': 10, 'USA': 198, 'ETH': 61, 'BRN': 27, 'IOA': 86, 'GBR': 68, 'UZB': 199, 'RSA': 158, 'EGY': 56, 'MAR': 116, 'QAT': 155, 'SUD': 175, 'ALG': 2, 'DEN': 51, 'NED': 135, 'DJI': 52, 'SEN': 162, 'CMR': 40, 'ITA': 93, 'NIG': 138, 'SWE': 179, 'GHA': 73, 'AFG': 0, 'AZE': 12, 'KSA': 104, 'BAN': 14, 'NGR': 137, 'RUS': 159, 'IND': 85, 'HUN': 83, 'KAZ': 98, 'BDI': 16, 'ERI': 57, 'POL': 151, 'BRA': 26, 'GEO': 70, 'CZE': 50, 'SEY': 163, 'GAM': 67, 'LTU': 113, 'IRI': 87, 'ROU': 157, 'CUB': 48, 'SLO': 167, 'BAH': 13, 'ARG': 6, 'PUR': 154, 'FRA': 64, 'RWA': 160, 'TOG': 188, 'MDV': 120, 'TUN': 191, 'ISR': 91, 'LAT': 106, 'JOR': 96, 'MAS': 117, 'LIB': 111, 'LBA': 107, 'PLE': 148, 'IRQ': 89, 'TUR': 192, 'VEN': 201, 'JPN': 97, 'TPE': 189, 'KGZ': 100, 'CHN': 38, 'MEX': 121, 'GRE': 74, 'IRL': 88, 'JAM': 95, 'SUI': 176, 'BAR': 15, 'HON': 82, 'ANG': 4, 'GER': 72, 'COL': 43, 'URU': 197, 'MNE': 127, 'SRB': 171, 'BUL': 29, 'FIN': 63, 'UKR': 196, 'BLR': 23, 'SMR': 168, 'COK': 42, 'SAM': 161, 'AUT': 11, 'BEL': 17, 'KEN': 99, 'SVK': 178, 'POR': 152, 'ECU': 55, 'UAE': 194, 'NAM': 133, 'GUY': 79, 'EST': 60, 'SKN': 165, 'ARU': 8, 'PAN': 144, 'PER': 146, 'TAN': 182, 'FIJ': 62, 'GUI': 77, 'NOR': 139, 'ARM': 7, 'THA': 184, 'SIN': 164, 'TKM': 186, 'CRO': 47, 'BIH': 21, 'TGA': 183, 'MAW': 118, 'DOM': 54, 'GUA': 76, 'MKD': 124, 'TJK': 185, 'CYP': 49, 'CHI': 37, 'MLT': 126, 'ZIM': 206, 'TTO': 190, 'CRC': 46, 'BOL': 24, 'BUR': 30, 'ISL': 90, 'HAI': 80, 'ROT': 156, 'MGL': 122, 'MAD': 115, 'GAB': 66, 'SRI': 172, 'LAO': 105, 'MRI': 130, 'PAR': 145, 'IVB': 94, 'GBS': 69, 'TLS': 187, 'MLI': 125, 'SYR': 181, 'BOT': 25, 'CHA': 36, 'OMA': 142, 'COD': 41, 'CIV': 39, 'GEQ': 71, 'UGA': 195, 'GUM': 78, 'ASA': 9, 'ZAM': 205, 'VAN': 200, 'GRN': 75, 'BIZ': 22, 'VIN': 203, 'MON': 128, 'ALB': 1, 'STP': 174, 'SLE': 166, 'BER': 19, 'HKG': 81, 'ISV': 92, 'CGO': 35, 'ANT': 5, 'BEN': 18, 'LUX': 114, 'PHI': 147, 'CAF': 31, 'PRK': 153, 'LIE': 112, 'MHL': 123, 'NCA': 134, 'KIR': 101, 'CPV': 45, 'INA': 84, 'FSM': 65, 'COM': 44, 'PLW': 149, 'MYA': 132, 'NRU': 140, 'LBR': 108, 'ESA': 58, 'AND': 3, 'TUV': 193, 'SUR': 177, 'CAY': 34, 'NEP': 136, 'PAK': 143, 'SSD': 173, 'MTN': 131, 'VIE': 202, 'MOZ': 129, 'LES': 110, 'LCA': 109, 'BRU': 28, 'SOL': 169, 'BHU': 20, 'CAM': 32, 'KOS': 103, 'SOM': 170, 'PNG': 150, 'YEM': 204, 'SWZ': 180, 'DMA': 53}\n",
            "{'male': 1, 'female': 0}\n"
          ],
          "name": "stdout"
        }
      ]
    },
    {
      "cell_type": "code",
      "metadata": {
        "id": "hemu9yx7ST2v"
      },
      "source": [
        "cat_data = [cn, cg, cgame]"
      ],
      "execution_count": 38,
      "outputs": []
    },
    {
      "cell_type": "code",
      "metadata": {
        "colab": {
          "base_uri": "https://localhost:8080/"
        },
        "id": "723S51OsS73H",
        "outputId": "ba41b843-8c2f-4aaf-bdc9-f5fb17fadad3"
      },
      "source": [
        "cat_data"
      ],
      "execution_count": 39,
      "outputs": [
        {
          "output_type": "execute_result",
          "data": {
            "text/plain": [
              "[{'AFG': 0,\n",
              "  'ALB': 1,\n",
              "  'ALG': 2,\n",
              "  'AND': 3,\n",
              "  'ANG': 4,\n",
              "  'ANT': 5,\n",
              "  'ARG': 6,\n",
              "  'ARM': 7,\n",
              "  'ARU': 8,\n",
              "  'ASA': 9,\n",
              "  'AUS': 10,\n",
              "  'AUT': 11,\n",
              "  'AZE': 12,\n",
              "  'BAH': 13,\n",
              "  'BAN': 14,\n",
              "  'BAR': 15,\n",
              "  'BDI': 16,\n",
              "  'BEL': 17,\n",
              "  'BEN': 18,\n",
              "  'BER': 19,\n",
              "  'BHU': 20,\n",
              "  'BIH': 21,\n",
              "  'BIZ': 22,\n",
              "  'BLR': 23,\n",
              "  'BOL': 24,\n",
              "  'BOT': 25,\n",
              "  'BRA': 26,\n",
              "  'BRN': 27,\n",
              "  'BRU': 28,\n",
              "  'BUL': 29,\n",
              "  'BUR': 30,\n",
              "  'CAF': 31,\n",
              "  'CAM': 32,\n",
              "  'CAN': 33,\n",
              "  'CAY': 34,\n",
              "  'CGO': 35,\n",
              "  'CHA': 36,\n",
              "  'CHI': 37,\n",
              "  'CHN': 38,\n",
              "  'CIV': 39,\n",
              "  'CMR': 40,\n",
              "  'COD': 41,\n",
              "  'COK': 42,\n",
              "  'COL': 43,\n",
              "  'COM': 44,\n",
              "  'CPV': 45,\n",
              "  'CRC': 46,\n",
              "  'CRO': 47,\n",
              "  'CUB': 48,\n",
              "  'CYP': 49,\n",
              "  'CZE': 50,\n",
              "  'DEN': 51,\n",
              "  'DJI': 52,\n",
              "  'DMA': 53,\n",
              "  'DOM': 54,\n",
              "  'ECU': 55,\n",
              "  'EGY': 56,\n",
              "  'ERI': 57,\n",
              "  'ESA': 58,\n",
              "  'ESP': 59,\n",
              "  'EST': 60,\n",
              "  'ETH': 61,\n",
              "  'FIJ': 62,\n",
              "  'FIN': 63,\n",
              "  'FRA': 64,\n",
              "  'FSM': 65,\n",
              "  'GAB': 66,\n",
              "  'GAM': 67,\n",
              "  'GBR': 68,\n",
              "  'GBS': 69,\n",
              "  'GEO': 70,\n",
              "  'GEQ': 71,\n",
              "  'GER': 72,\n",
              "  'GHA': 73,\n",
              "  'GRE': 74,\n",
              "  'GRN': 75,\n",
              "  'GUA': 76,\n",
              "  'GUI': 77,\n",
              "  'GUM': 78,\n",
              "  'GUY': 79,\n",
              "  'HAI': 80,\n",
              "  'HKG': 81,\n",
              "  'HON': 82,\n",
              "  'HUN': 83,\n",
              "  'INA': 84,\n",
              "  'IND': 85,\n",
              "  'IOA': 86,\n",
              "  'IRI': 87,\n",
              "  'IRL': 88,\n",
              "  'IRQ': 89,\n",
              "  'ISL': 90,\n",
              "  'ISR': 91,\n",
              "  'ISV': 92,\n",
              "  'ITA': 93,\n",
              "  'IVB': 94,\n",
              "  'JAM': 95,\n",
              "  'JOR': 96,\n",
              "  'JPN': 97,\n",
              "  'KAZ': 98,\n",
              "  'KEN': 99,\n",
              "  'KGZ': 100,\n",
              "  'KIR': 101,\n",
              "  'KOR': 102,\n",
              "  'KOS': 103,\n",
              "  'KSA': 104,\n",
              "  'LAO': 105,\n",
              "  'LAT': 106,\n",
              "  'LBA': 107,\n",
              "  'LBR': 108,\n",
              "  'LCA': 109,\n",
              "  'LES': 110,\n",
              "  'LIB': 111,\n",
              "  'LIE': 112,\n",
              "  'LTU': 113,\n",
              "  'LUX': 114,\n",
              "  'MAD': 115,\n",
              "  'MAR': 116,\n",
              "  'MAS': 117,\n",
              "  'MAW': 118,\n",
              "  'MDA': 119,\n",
              "  'MDV': 120,\n",
              "  'MEX': 121,\n",
              "  'MGL': 122,\n",
              "  'MHL': 123,\n",
              "  'MKD': 124,\n",
              "  'MLI': 125,\n",
              "  'MLT': 126,\n",
              "  'MNE': 127,\n",
              "  'MON': 128,\n",
              "  'MOZ': 129,\n",
              "  'MRI': 130,\n",
              "  'MTN': 131,\n",
              "  'MYA': 132,\n",
              "  'NAM': 133,\n",
              "  'NCA': 134,\n",
              "  'NED': 135,\n",
              "  'NEP': 136,\n",
              "  'NGR': 137,\n",
              "  'NIG': 138,\n",
              "  'NOR': 139,\n",
              "  'NRU': 140,\n",
              "  'NZL': 141,\n",
              "  'OMA': 142,\n",
              "  'PAK': 143,\n",
              "  'PAN': 144,\n",
              "  'PAR': 145,\n",
              "  'PER': 146,\n",
              "  'PHI': 147,\n",
              "  'PLE': 148,\n",
              "  'PLW': 149,\n",
              "  'PNG': 150,\n",
              "  'POL': 151,\n",
              "  'POR': 152,\n",
              "  'PRK': 153,\n",
              "  'PUR': 154,\n",
              "  'QAT': 155,\n",
              "  'ROT': 156,\n",
              "  'ROU': 157,\n",
              "  'RSA': 158,\n",
              "  'RUS': 159,\n",
              "  'RWA': 160,\n",
              "  'SAM': 161,\n",
              "  'SEN': 162,\n",
              "  'SEY': 163,\n",
              "  'SIN': 164,\n",
              "  'SKN': 165,\n",
              "  'SLE': 166,\n",
              "  'SLO': 167,\n",
              "  'SMR': 168,\n",
              "  'SOL': 169,\n",
              "  'SOM': 170,\n",
              "  'SRB': 171,\n",
              "  'SRI': 172,\n",
              "  'SSD': 173,\n",
              "  'STP': 174,\n",
              "  'SUD': 175,\n",
              "  'SUI': 176,\n",
              "  'SUR': 177,\n",
              "  'SVK': 178,\n",
              "  'SWE': 179,\n",
              "  'SWZ': 180,\n",
              "  'SYR': 181,\n",
              "  'TAN': 182,\n",
              "  'TGA': 183,\n",
              "  'THA': 184,\n",
              "  'TJK': 185,\n",
              "  'TKM': 186,\n",
              "  'TLS': 187,\n",
              "  'TOG': 188,\n",
              "  'TPE': 189,\n",
              "  'TTO': 190,\n",
              "  'TUN': 191,\n",
              "  'TUR': 192,\n",
              "  'TUV': 193,\n",
              "  'UAE': 194,\n",
              "  'UGA': 195,\n",
              "  'UKR': 196,\n",
              "  'URU': 197,\n",
              "  'USA': 198,\n",
              "  'UZB': 199,\n",
              "  'VAN': 200,\n",
              "  'VEN': 201,\n",
              "  'VIE': 202,\n",
              "  'VIN': 203,\n",
              "  'YEM': 204,\n",
              "  'ZAM': 205,\n",
              "  'ZIM': 206},\n",
              " {'female': 0, 'male': 1},\n",
              " {'aquatics': 0,\n",
              "  'archery': 1,\n",
              "  'athletics': 2,\n",
              "  'badminton': 3,\n",
              "  'basketball': 4,\n",
              "  'boxing': 5,\n",
              "  'canoe': 6,\n",
              "  'cycling': 7,\n",
              "  'equestrian': 8,\n",
              "  'fencing': 9,\n",
              "  'football': 10,\n",
              "  'golf': 11,\n",
              "  'gymnastics': 12,\n",
              "  'handball': 13,\n",
              "  'hockey': 14,\n",
              "  'judo': 15,\n",
              "  'modern pentathlon': 16,\n",
              "  'rowing': 17,\n",
              "  'rugby sevens': 18,\n",
              "  'sailing': 19,\n",
              "  'shooting': 20,\n",
              "  'table tennis': 21,\n",
              "  'taekwondo': 22,\n",
              "  'tennis': 23,\n",
              "  'triathlon': 24,\n",
              "  'volleyball': 25,\n",
              "  'weightlifting': 26,\n",
              "  'wrestling': 27}]"
            ]
          },
          "metadata": {
            "tags": []
          },
          "execution_count": 39
        }
      ]
    },
    {
      "cell_type": "code",
      "metadata": {
        "id": "FQlnMPXhT8bn"
      },
      "source": [
        "x= x.transpose()"
      ],
      "execution_count": 40,
      "outputs": []
    },
    {
      "cell_type": "markdown",
      "metadata": {
        "id": "dhNQTC0Sb97S"
      },
      "source": [
        "#Random forest regressor for predicting results of olympics"
      ]
    },
    {
      "cell_type": "code",
      "metadata": {
        "colab": {
          "base_uri": "https://localhost:8080/"
        },
        "id": "tpxdfUWSS9NW",
        "outputId": "322334e8-1ba6-4bfd-8c61-8038caa65ef9"
      },
      "source": [
        "from sklearn.ensemble import RandomForestRegressor\n",
        "RFR = RandomForestRegressor(n_estimators = 245, random_state = 40, max_depth = 14, min_samples_split = 10)\n",
        "RFR.fit(x,y)"
      ],
      "execution_count": 41,
      "outputs": [
        {
          "output_type": "execute_result",
          "data": {
            "text/plain": [
              "RandomForestRegressor(bootstrap=True, ccp_alpha=0.0, criterion='mse',\n",
              "                      max_depth=14, max_features='auto', max_leaf_nodes=None,\n",
              "                      max_samples=None, min_impurity_decrease=0.0,\n",
              "                      min_impurity_split=None, min_samples_leaf=1,\n",
              "                      min_samples_split=10, min_weight_fraction_leaf=0.0,\n",
              "                      n_estimators=245, n_jobs=None, oob_score=False,\n",
              "                      random_state=40, verbose=0, warm_start=False)"
            ]
          },
          "metadata": {
            "tags": []
          },
          "execution_count": 41
        }
      ]
    },
    {
      "cell_type": "code",
      "metadata": {
        "id": "3FQU0cCtT__m"
      },
      "source": [
        "def ip(country , gender, height, weight, sport):\n",
        "  c = cat_data[0].get(country.upper())\n",
        "  g = cat_data[1].get(gender.lower())\n",
        "  s = cat_data[2].get(sport.lower())\n",
        "  h = height\n",
        "  w = weight\n",
        "  list_data = [c,g,h,w,s]\n",
        "  pred = RFR.predict([list_data])\n",
        "\n",
        "  # for gold medal\n",
        "\n",
        "  if pred[0][0] < 0.036:\n",
        "    gold = 0\n",
        "  elif pred[0][0] > 0.036:\n",
        "    gold =1\n",
        "  elif pred[0][0] > 0.12 and pred[0][0] < 0.9:\n",
        "    gold = 2\n",
        "  elif pred[0][0] > 0.9:\n",
        "    gold = \"2+\"\n",
        "  \n",
        "  #for silver medal\n",
        "\n",
        "  if pred[0][1] <0.3:\n",
        "    silver= 0 \n",
        "  elif pred[0][1] >0.3 and pred[0][1] < 0.5:\n",
        "    silver = 1\n",
        "  elif pred[0][1] > 0.5:\n",
        "    silver =\"1+\"\n",
        "  \n",
        "  # for Bronze medal\n",
        "  if pred[0][2] <0.21:\n",
        "    bronze = 0\n",
        "  elif pred[0][2] >0.21 and pred[0][2] < 4.5:\n",
        "    bronze = 1\n",
        "  elif pred[0][2] >4.5:\n",
        "    bronze =\"1+\"\n",
        "\n",
        "  prediction = f'No. of Gold medals: {gold} \\nNo of silver medals: {silver} \\nNo of bronze medals: {bronze}'\n",
        "  return prediction"
      ],
      "execution_count": 50,
      "outputs": []
    },
    {
      "cell_type": "markdown",
      "metadata": {
        "id": "tJSLYdsKcFFW"
      },
      "source": [
        "#Results predicted by RF model for the given input"
      ]
    },
    {
      "cell_type": "code",
      "metadata": {
        "colab": {
          "base_uri": "https://localhost:8080/"
        },
        "id": "WOqR0Nv1VRjf",
        "outputId": "c108d0db-0169-473a-fc5e-0fa8e0da45a3"
      },
      "source": [
        "nation = input('Country[use the proper olympic country code]: ')\n",
        "gender =input('Gender[male / female]:')\n",
        "height = float(input('height[in meters]:'))\n",
        "weight = float(input('weight[in kgs]:'))\n",
        "sport = input('sport:')\n",
        "\n",
        "print(ip(nation,gender,height,weight,sport))\n"
      ],
      "execution_count": 58,
      "outputs": [
        {
          "output_type": "stream",
          "text": [
            "Country[use the proper olympic country code]: CHI\n",
            "Gender[male / female]:female\n",
            "height[in meters]:1.7\n",
            "weight[in kgs]:70\n",
            "sport:weightlifting\n",
            "No. of Gold medals: 1 \n",
            "No of silver medals: 0 \n",
            "No of bronze medals: 0\n"
          ],
          "name": "stdout"
        }
      ]
    },
    {
      "cell_type": "code",
      "metadata": {
        "id": "uzMyFi7-Z_4F"
      },
      "source": [
        ""
      ],
      "execution_count": null,
      "outputs": []
    }
  ]
}